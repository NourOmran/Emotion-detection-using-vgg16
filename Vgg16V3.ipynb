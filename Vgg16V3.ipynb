{
  "nbformat": 4,
  "nbformat_minor": 0,
  "metadata": {
    "colab": {
      "name": "Vgg16V3.ipynb",
      "provenance": [],
      "collapsed_sections": [],
      "machine_shape": "hm"
    },
    "kernelspec": {
      "name": "python3",
      "display_name": "Python 3"
    },
    "accelerator": "GPU"
  },
  "cells": [
    {
      "cell_type": "code",
      "metadata": {
        "id": "lvruwv_R4G02"
      },
      "source": [
        "import tensorflow as tf\n",
        "from tensorflow import keras\n",
        "from tensorflow.keras import layers\n",
        "from keras.preprocessing.image import ImageDataGenerator\n",
        "from keras.datasets import cifar10\n",
        "from keras.preprocessing.image import ImageDataGenerator\n",
        "from keras.models import Sequential,load_model\n",
        "from keras.layers import Dense, Dropout, Activation, Flatten\n",
        "from keras.layers import Conv2D, MaxPooling2D\n",
        "from keras.applications.vgg16 import VGG16\n",
        "from keras.applications.vgg16 import preprocess_input\n",
        "from keras.optimizers import Adam\n",
        "import matplotlib.pyplot as plt\n",
        "import numpy as np\n",
        "import h5py\n",
        "import sklearn.metrics"
      ],
      "execution_count": null,
      "outputs": []
    },
    {
      "cell_type": "code",
      "metadata": {
        "id": "WlnpQLbZ4cQp",
        "colab": {
          "base_uri": "https://localhost:8080/",
          "height": 34
        },
        "outputId": "bfc59e93-2a54-4e9a-d346-7e016e87ff15"
      },
      "source": [
        "from google.colab import drive\n",
        "drive.mount('/content/drive/')"
      ],
      "execution_count": null,
      "outputs": [
        {
          "output_type": "stream",
          "text": [
            "Mounted at /content/drive/\n"
          ],
          "name": "stdout"
        }
      ]
    },
    {
      "cell_type": "code",
      "metadata": {
        "id": "HJ2EfyYH4k9L",
        "colab": {
          "base_uri": "https://localhost:8080/",
          "height": 68
        },
        "outputId": "52c0687d-be47-4da8-d3f7-78f49b5c276b"
      },
      "source": [
        "img_size=224\n",
        "train_generator = ImageDataGenerator(horizontal_flip = True).flow_from_directory('/content/drive/My Drive/mentorship2020/dataset/train',\n",
        "     target_size=(img_size,img_size), \n",
        "     color_mode=\"rgb\", batch_size=128,\n",
        "     class_mode='categorical', \n",
        "     shuffle=True, \n",
        "                                                   )\n",
        "TRAIN_DIR='/content/drive/My Drive/mentorship2020/dataset/train'\n",
        "datagen = ImageDataGenerator(validation_split=0.20)\n",
        "val_generator = datagen.flow_from_directory(\n",
        "    TRAIN_DIR,\n",
        "    subset='validation',\n",
        "    target_size=(img_size,img_size), \n",
        "    color_mode=\"rgb\", batch_size=128,\n",
        "    class_mode='categorical', \n",
        "    shuffle=True \n",
        ")\n",
        "\n",
        "type(train_generator)\n",
        "type(train_generator)"
      ],
      "execution_count": null,
      "outputs": [
        {
          "output_type": "stream",
          "text": [
            "Found 28787 images belonging to 7 classes.\n",
            "Found 5754 images belonging to 7 classes.\n"
          ],
          "name": "stdout"
        },
        {
          "output_type": "execute_result",
          "data": {
            "text/plain": [
              "tensorflow.python.keras.preprocessing.image.DirectoryIterator"
            ]
          },
          "metadata": {
            "tags": []
          },
          "execution_count": 4
        }
      ]
    },
    {
      "cell_type": "code",
      "metadata": {
        "id": "KjALuybq4_P9",
        "colab": {
          "base_uri": "https://localhost:8080/",
          "height": 71
        },
        "outputId": "a70c31ee-01ab-445e-c2a8-38f935394260"
      },
      "source": [
        "IMAGE_SIZE = [224, 224]\n",
        "vgg16_model = tf.keras.applications.vgg16.VGG16(input_shape=IMAGE_SIZE + [3], weights='imagenet', include_top=False)\n",
        "model = keras.Sequential()"
      ],
      "execution_count": null,
      "outputs": [
        {
          "output_type": "stream",
          "text": [
            "Downloading data from https://storage.googleapis.com/tensorflow/keras-applications/vgg16/vgg16_weights_tf_dim_ordering_tf_kernels_notop.h5\n",
            "58892288/58889256 [==============================] - 1s 0us/step\n"
          ],
          "name": "stdout"
        }
      ]
    },
    {
      "cell_type": "code",
      "metadata": {
        "id": "EV6OFhBL5EH2"
      },
      "source": [
        "x = tf.keras.layers.Flatten()(vgg16_model.output)\n",
        "x = tf.keras.layers.Dense(1024, activation = 'relu')(x)\n",
        "x = tf.keras.layers.Dropout(0.50)(x)\n",
        "x = tf.keras.layers.Dense(256, activation='relu')(x)\n",
        "x = tf.keras.layers.Dropout(0.5)(x)\n",
        "prediction = tf.keras.layers.Dense(7, activation='softmax')(x)\n",
        "model = tf.keras.Model(inputs=vgg16_model.input, outputs=prediction)"
      ],
      "execution_count": null,
      "outputs": []
    },
    {
      "cell_type": "code",
      "metadata": {
        "id": "FxWEQCjZksJN"
      },
      "source": [
        ""
      ],
      "execution_count": null,
      "outputs": []
    },
    {
      "cell_type": "code",
      "metadata": {
        "id": "W22LdNxJ5J-Z"
      },
      "source": [
        "model.compile( loss='categorical_crossentropy',\n",
        "    optimizer = 'adam',\n",
        "    metrics = ['accuracy']\n",
        ")\n",
        "from tensorflow.keras.callbacks import ReduceLROnPlateau\n",
        "\n",
        "learning_rate_reduction = ReduceLROnPlateau(monitor='val_accuracy',\n",
        "                                           patience=3,\n",
        "                                           verbose=1,\n",
        "                                           factor=0.5,\n",
        "                                           min_lr=0.00001)"
      ],
      "execution_count": null,
      "outputs": []
    },
    {
      "cell_type": "code",
      "metadata": {
        "id": "rPzVa-ZW5S1q"
      },
      "source": [
        "model.save(\"/content/drive/My Drive/model125epoch/mymodel200.h5\")"
      ],
      "execution_count": null,
      "outputs": []
    },
    {
      "cell_type": "code",
      "metadata": {
        "id": "ZvD0u43N5lVR",
        "colab": {
          "base_uri": "https://localhost:8080/",
          "height": 1000
        },
        "outputId": "e036c9a4-1ffc-40d8-fc8f-c5dd7e84d444"
      },
      "source": [
        "model.fit_generator(train_generator,\n",
        "                  steps_per_epoch = 225,\n",
        "                  epochs = 200,\n",
        "                  #callbacks=[cp_callback],\n",
        "                  validation_data = val_generator,\n",
        "                  validation_steps = 45,)"
      ],
      "execution_count": null,
      "outputs": [
        {
          "output_type": "stream",
          "text": [
            "WARNING:tensorflow:From <ipython-input-9-be225da5e57b>:6: Model.fit_generator (from tensorflow.python.keras.engine.training) is deprecated and will be removed in a future version.\n",
            "Instructions for updating:\n",
            "Please use Model.fit, which supports generators.\n",
            "Epoch 1/200\n",
            "225/225 [==============================] - 12700s 56s/step - loss: 2.3656 - accuracy: 0.2357 - val_loss: 1.8124 - val_accuracy: 0.2555\n",
            "Epoch 2/200\n",
            "225/225 [==============================] - 117s 522ms/step - loss: 1.8077 - accuracy: 0.2507 - val_loss: 1.7842 - val_accuracy: 0.2614\n",
            "Epoch 3/200\n",
            "225/225 [==============================] - 118s 524ms/step - loss: 1.8031 - accuracy: 0.2520 - val_loss: 1.7761 - val_accuracy: 0.2638\n",
            "Epoch 4/200\n",
            "225/225 [==============================] - 119s 530ms/step - loss: 1.8019 - accuracy: 0.2545 - val_loss: 1.7965 - val_accuracy: 0.2548\n",
            "Epoch 5/200\n",
            "225/225 [==============================] - 117s 521ms/step - loss: 1.8076 - accuracy: 0.2521 - val_loss: 1.7850 - val_accuracy: 0.2626\n",
            "Epoch 6/200\n",
            "225/225 [==============================] - 117s 520ms/step - loss: 1.7884 - accuracy: 0.2595 - val_loss: 1.7486 - val_accuracy: 0.2722\n",
            "Epoch 7/200\n",
            "225/225 [==============================] - 117s 521ms/step - loss: 1.7515 - accuracy: 0.2749 - val_loss: 1.7095 - val_accuracy: 0.3109\n",
            "Epoch 8/200\n",
            "225/225 [==============================] - 117s 522ms/step - loss: 1.6997 - accuracy: 0.3159 - val_loss: 1.6016 - val_accuracy: 0.3733\n",
            "Epoch 9/200\n",
            "225/225 [==============================] - 117s 521ms/step - loss: 1.6161 - accuracy: 0.3668 - val_loss: 1.5177 - val_accuracy: 0.4081\n",
            "Epoch 10/200\n",
            "225/225 [==============================] - 117s 521ms/step - loss: 1.5443 - accuracy: 0.4021 - val_loss: 1.5201 - val_accuracy: 0.4065\n",
            "Epoch 11/200\n",
            "225/225 [==============================] - 117s 521ms/step - loss: 1.4880 - accuracy: 0.4245 - val_loss: 1.4035 - val_accuracy: 0.4609\n",
            "Epoch 12/200\n",
            "225/225 [==============================] - 117s 520ms/step - loss: 1.4452 - accuracy: 0.4457 - val_loss: 1.4045 - val_accuracy: 0.4612\n",
            "Epoch 13/200\n",
            "225/225 [==============================] - 117s 519ms/step - loss: 1.4036 - accuracy: 0.4600 - val_loss: 1.4652 - val_accuracy: 0.4239\n",
            "Epoch 14/200\n",
            "225/225 [==============================] - 117s 518ms/step - loss: 1.3680 - accuracy: 0.4753 - val_loss: 1.2939 - val_accuracy: 0.5023\n",
            "Epoch 15/200\n",
            "225/225 [==============================] - 117s 519ms/step - loss: 1.3388 - accuracy: 0.4871 - val_loss: 1.4196 - val_accuracy: 0.4388\n",
            "Epoch 16/200\n",
            "225/225 [==============================] - 117s 518ms/step - loss: 1.3164 - accuracy: 0.4938 - val_loss: 1.2495 - val_accuracy: 0.5177\n",
            "Epoch 17/200\n",
            "225/225 [==============================] - 117s 518ms/step - loss: 1.2847 - accuracy: 0.5069 - val_loss: 1.2363 - val_accuracy: 0.5202\n",
            "Epoch 18/200\n",
            "225/225 [==============================] - 117s 518ms/step - loss: 1.2593 - accuracy: 0.5173 - val_loss: 1.2178 - val_accuracy: 0.5261\n",
            "Epoch 19/200\n",
            "225/225 [==============================] - 116s 517ms/step - loss: 1.2384 - accuracy: 0.5248 - val_loss: 1.1727 - val_accuracy: 0.5445\n",
            "Epoch 20/200\n",
            "225/225 [==============================] - 116s 516ms/step - loss: 1.2222 - accuracy: 0.5321 - val_loss: 1.1436 - val_accuracy: 0.5499\n",
            "Epoch 21/200\n",
            "225/225 [==============================] - 116s 514ms/step - loss: 1.2025 - accuracy: 0.5395 - val_loss: 1.1573 - val_accuracy: 0.5617\n",
            "Epoch 22/200\n",
            "225/225 [==============================] - 116s 516ms/step - loss: 1.1890 - accuracy: 0.5474 - val_loss: 1.1055 - val_accuracy: 0.5711\n",
            "Epoch 23/200\n",
            "225/225 [==============================] - 116s 514ms/step - loss: 1.1651 - accuracy: 0.5556 - val_loss: 1.1038 - val_accuracy: 0.5730\n",
            "Epoch 24/200\n",
            "225/225 [==============================] - 116s 515ms/step - loss: 1.1514 - accuracy: 0.5629 - val_loss: 1.0949 - val_accuracy: 0.5812\n",
            "Epoch 25/200\n",
            "225/225 [==============================] - 116s 515ms/step - loss: 1.1304 - accuracy: 0.5724 - val_loss: 1.0608 - val_accuracy: 0.5899\n",
            "Epoch 26/200\n",
            "225/225 [==============================] - 116s 514ms/step - loss: 1.1196 - accuracy: 0.5752 - val_loss: 1.0816 - val_accuracy: 0.5812\n",
            "Epoch 27/200\n",
            "225/225 [==============================] - 116s 515ms/step - loss: 1.0934 - accuracy: 0.5816 - val_loss: 1.0013 - val_accuracy: 0.6178\n",
            "Epoch 28/200\n",
            "225/225 [==============================] - 116s 516ms/step - loss: 1.0774 - accuracy: 0.5914 - val_loss: 1.0690 - val_accuracy: 0.5956\n",
            "Epoch 29/200\n",
            "225/225 [==============================] - 116s 514ms/step - loss: 1.0513 - accuracy: 0.6012 - val_loss: 0.9574 - val_accuracy: 0.6309\n",
            "Epoch 30/200\n",
            "225/225 [==============================] - 116s 514ms/step - loss: 1.0442 - accuracy: 0.6028 - val_loss: 0.9747 - val_accuracy: 0.6234\n",
            "Epoch 31/200\n",
            "225/225 [==============================] - 116s 516ms/step - loss: 1.0326 - accuracy: 0.6064 - val_loss: 0.9584 - val_accuracy: 0.6303\n",
            "Epoch 32/200\n",
            "225/225 [==============================] - 116s 515ms/step - loss: 1.0130 - accuracy: 0.6144 - val_loss: 0.9587 - val_accuracy: 0.6276\n",
            "Epoch 33/200\n",
            "225/225 [==============================] - 116s 515ms/step - loss: 1.0008 - accuracy: 0.6210 - val_loss: 0.9245 - val_accuracy: 0.6481\n",
            "Epoch 34/200\n",
            "225/225 [==============================] - 116s 515ms/step - loss: 0.9828 - accuracy: 0.6242 - val_loss: 0.8940 - val_accuracy: 0.6562\n",
            "Epoch 35/200\n",
            "225/225 [==============================] - 116s 514ms/step - loss: 0.9644 - accuracy: 0.6388 - val_loss: 0.8772 - val_accuracy: 0.6767\n",
            "Epoch 36/200\n",
            "225/225 [==============================] - 117s 520ms/step - loss: 0.9390 - accuracy: 0.6412 - val_loss: 0.8543 - val_accuracy: 0.6759\n",
            "Epoch 37/200\n",
            "225/225 [==============================] - 116s 514ms/step - loss: 0.9376 - accuracy: 0.6448 - val_loss: 0.8336 - val_accuracy: 0.6917\n",
            "Epoch 38/200\n",
            "225/225 [==============================] - 116s 515ms/step - loss: 0.9051 - accuracy: 0.6582 - val_loss: 0.8028 - val_accuracy: 0.6986\n",
            "Epoch 39/200\n",
            "225/225 [==============================] - 116s 514ms/step - loss: 0.8910 - accuracy: 0.6639 - val_loss: 0.7851 - val_accuracy: 0.7086\n",
            "Epoch 40/200\n",
            "225/225 [==============================] - 116s 514ms/step - loss: 0.8710 - accuracy: 0.6741 - val_loss: 0.7833 - val_accuracy: 0.6964\n",
            "Epoch 41/200\n",
            "225/225 [==============================] - 116s 514ms/step - loss: 0.8568 - accuracy: 0.6768 - val_loss: 0.7372 - val_accuracy: 0.7200\n",
            "Epoch 42/200\n",
            "225/225 [==============================] - 116s 513ms/step - loss: 0.8392 - accuracy: 0.6813 - val_loss: 0.7145 - val_accuracy: 0.7299\n",
            "Epoch 43/200\n",
            "225/225 [==============================] - 115s 512ms/step - loss: 0.8057 - accuracy: 0.6981 - val_loss: 0.7326 - val_accuracy: 0.7237\n",
            "Epoch 44/200\n",
            "225/225 [==============================] - 117s 521ms/step - loss: 0.7981 - accuracy: 0.6997 - val_loss: 0.7137 - val_accuracy: 0.7416\n",
            "Epoch 45/200\n",
            "225/225 [==============================] - 115s 513ms/step - loss: 0.7701 - accuracy: 0.7103 - val_loss: 0.6528 - val_accuracy: 0.7548\n",
            "Epoch 46/200\n",
            "225/225 [==============================] - 115s 512ms/step - loss: 0.7463 - accuracy: 0.7198 - val_loss: 0.6271 - val_accuracy: 0.7664\n",
            "Epoch 47/200\n",
            "225/225 [==============================] - 115s 512ms/step - loss: 0.7295 - accuracy: 0.7309 - val_loss: 0.5973 - val_accuracy: 0.7828\n",
            "Epoch 48/200\n",
            "225/225 [==============================] - 115s 512ms/step - loss: 0.7069 - accuracy: 0.7357 - val_loss: 0.6111 - val_accuracy: 0.7815\n",
            "Epoch 49/200\n",
            "225/225 [==============================] - 115s 512ms/step - loss: 0.6755 - accuracy: 0.7490 - val_loss: 0.5442 - val_accuracy: 0.8078\n",
            "Epoch 50/200\n",
            "225/225 [==============================] - 115s 512ms/step - loss: 0.6566 - accuracy: 0.7585 - val_loss: 0.5128 - val_accuracy: 0.8120\n",
            "Epoch 51/200\n",
            "225/225 [==============================] - 115s 512ms/step - loss: 0.6320 - accuracy: 0.7665 - val_loss: 0.5273 - val_accuracy: 0.8021\n",
            "Epoch 52/200\n",
            "225/225 [==============================] - 117s 519ms/step - loss: 0.6170 - accuracy: 0.7717 - val_loss: 0.4972 - val_accuracy: 0.8233\n",
            "Epoch 53/200\n",
            "225/225 [==============================] - 115s 512ms/step - loss: 0.6036 - accuracy: 0.7800 - val_loss: 0.4733 - val_accuracy: 0.8309\n",
            "Epoch 54/200\n",
            "225/225 [==============================] - 115s 512ms/step - loss: 0.5825 - accuracy: 0.7882 - val_loss: 0.4652 - val_accuracy: 0.8439\n",
            "Epoch 55/200\n",
            "225/225 [==============================] - 116s 514ms/step - loss: 0.5604 - accuracy: 0.7970 - val_loss: 0.4022 - val_accuracy: 0.8571\n",
            "Epoch 56/200\n",
            "225/225 [==============================] - 115s 512ms/step - loss: 0.5409 - accuracy: 0.8016 - val_loss: 0.4431 - val_accuracy: 0.8469\n",
            "Epoch 57/200\n",
            "225/225 [==============================] - 115s 513ms/step - loss: 0.5387 - accuracy: 0.8048 - val_loss: 0.3752 - val_accuracy: 0.8726\n",
            "Epoch 58/200\n",
            "225/225 [==============================] - 115s 512ms/step - loss: 0.5040 - accuracy: 0.8154 - val_loss: 0.3871 - val_accuracy: 0.8754\n",
            "Epoch 59/200\n",
            "225/225 [==============================] - 115s 513ms/step - loss: 0.4933 - accuracy: 0.8236 - val_loss: 0.3567 - val_accuracy: 0.8843\n",
            "Epoch 60/200\n",
            "225/225 [==============================] - 116s 515ms/step - loss: 0.4667 - accuracy: 0.8307 - val_loss: 0.3364 - val_accuracy: 0.8860\n",
            "Epoch 61/200\n",
            "225/225 [==============================] - 115s 512ms/step - loss: 0.4496 - accuracy: 0.8384 - val_loss: 0.3048 - val_accuracy: 0.9058\n",
            "Epoch 62/200\n",
            "225/225 [==============================] - 115s 511ms/step - loss: 0.4335 - accuracy: 0.8459 - val_loss: 0.2766 - val_accuracy: 0.9128\n",
            "Epoch 63/200\n",
            "225/225 [==============================] - 115s 511ms/step - loss: 0.4240 - accuracy: 0.8498 - val_loss: 0.2764 - val_accuracy: 0.9121\n",
            "Epoch 64/200\n",
            "225/225 [==============================] - 115s 511ms/step - loss: 0.4272 - accuracy: 0.8489 - val_loss: 0.2663 - val_accuracy: 0.9204\n",
            "Epoch 65/200\n",
            "225/225 [==============================] - 115s 510ms/step - loss: 0.3926 - accuracy: 0.8605 - val_loss: 0.2375 - val_accuracy: 0.9258\n",
            "Epoch 66/200\n",
            "225/225 [==============================] - 115s 512ms/step - loss: 0.3822 - accuracy: 0.8656 - val_loss: 0.2500 - val_accuracy: 0.9227\n",
            "Epoch 67/200\n",
            "225/225 [==============================] - 115s 511ms/step - loss: 0.3769 - accuracy: 0.8657 - val_loss: 0.2269 - val_accuracy: 0.9265\n",
            "Epoch 68/200\n",
            "225/225 [==============================] - 115s 511ms/step - loss: 0.3759 - accuracy: 0.8687 - val_loss: 0.2580 - val_accuracy: 0.9181\n",
            "Epoch 69/200\n",
            "225/225 [==============================] - 115s 511ms/step - loss: 0.3582 - accuracy: 0.8762 - val_loss: 0.2039 - val_accuracy: 0.9357\n",
            "Epoch 70/200\n",
            "225/225 [==============================] - 115s 509ms/step - loss: 0.3552 - accuracy: 0.8734 - val_loss: 0.1968 - val_accuracy: 0.9393\n",
            "Epoch 71/200\n",
            "225/225 [==============================] - 115s 509ms/step - loss: 0.3260 - accuracy: 0.8861 - val_loss: 0.1996 - val_accuracy: 0.9357\n",
            "Epoch 72/200\n",
            "225/225 [==============================] - 115s 510ms/step - loss: 0.3236 - accuracy: 0.8886 - val_loss: 0.1705 - val_accuracy: 0.9493\n",
            "Epoch 73/200\n",
            "225/225 [==============================] - 115s 510ms/step - loss: 0.3062 - accuracy: 0.8961 - val_loss: 0.1654 - val_accuracy: 0.9527\n",
            "Epoch 74/200\n",
            "225/225 [==============================] - 115s 510ms/step - loss: 0.3106 - accuracy: 0.8931 - val_loss: 0.1577 - val_accuracy: 0.9517\n",
            "Epoch 75/200\n",
            "225/225 [==============================] - 115s 509ms/step - loss: 0.3012 - accuracy: 0.8964 - val_loss: 0.1823 - val_accuracy: 0.9491\n",
            "Epoch 76/200\n",
            "225/225 [==============================] - 115s 509ms/step - loss: 0.2947 - accuracy: 0.8982 - val_loss: 0.1533 - val_accuracy: 0.9559\n",
            "Epoch 77/200\n",
            "225/225 [==============================] - 115s 509ms/step - loss: 0.2912 - accuracy: 0.9020 - val_loss: 0.1848 - val_accuracy: 0.9399\n",
            "Epoch 78/200\n",
            "225/225 [==============================] - 115s 510ms/step - loss: 0.2855 - accuracy: 0.9032 - val_loss: 0.1391 - val_accuracy: 0.9588\n",
            "Epoch 79/200\n",
            "225/225 [==============================] - 116s 518ms/step - loss: 0.2816 - accuracy: 0.9030 - val_loss: 0.1446 - val_accuracy: 0.9583\n",
            "Epoch 80/200\n",
            "225/225 [==============================] - 115s 510ms/step - loss: 0.2609 - accuracy: 0.9133 - val_loss: 0.1248 - val_accuracy: 0.9614\n",
            "Epoch 81/200\n",
            "225/225 [==============================] - 115s 509ms/step - loss: 0.2557 - accuracy: 0.9144 - val_loss: 0.1404 - val_accuracy: 0.9630\n",
            "Epoch 82/200\n",
            "225/225 [==============================] - 115s 511ms/step - loss: 0.2564 - accuracy: 0.9156 - val_loss: 0.1330 - val_accuracy: 0.9590\n",
            "Epoch 83/200\n",
            "225/225 [==============================] - 115s 509ms/step - loss: 0.2587 - accuracy: 0.9149 - val_loss: 0.1095 - val_accuracy: 0.9675\n",
            "Epoch 84/200\n",
            "225/225 [==============================] - 115s 510ms/step - loss: 0.2349 - accuracy: 0.9219 - val_loss: 0.1179 - val_accuracy: 0.9652\n",
            "Epoch 85/200\n",
            "225/225 [==============================] - 115s 510ms/step - loss: 0.2499 - accuracy: 0.9178 - val_loss: 0.1174 - val_accuracy: 0.9633\n",
            "Epoch 86/200\n",
            "225/225 [==============================] - 114s 508ms/step - loss: 0.2245 - accuracy: 0.9243 - val_loss: 0.1409 - val_accuracy: 0.9552\n",
            "Epoch 87/200\n",
            "225/225 [==============================] - 114s 509ms/step - loss: 0.2353 - accuracy: 0.9204 - val_loss: 0.1081 - val_accuracy: 0.9694\n",
            "Epoch 88/200\n",
            "225/225 [==============================] - 114s 508ms/step - loss: 0.2373 - accuracy: 0.9201 - val_loss: 0.0999 - val_accuracy: 0.9706\n",
            "Epoch 89/200\n",
            "225/225 [==============================] - 114s 508ms/step - loss: 0.2395 - accuracy: 0.9190 - val_loss: 0.1239 - val_accuracy: 0.9639\n",
            "Epoch 90/200\n",
            "225/225 [==============================] - 115s 509ms/step - loss: 0.2099 - accuracy: 0.9301 - val_loss: 0.0984 - val_accuracy: 0.9706\n",
            "Epoch 91/200\n",
            "225/225 [==============================] - 115s 511ms/step - loss: 0.2200 - accuracy: 0.9281 - val_loss: 0.1231 - val_accuracy: 0.9586\n",
            "Epoch 92/200\n",
            "225/225 [==============================] - 115s 509ms/step - loss: 0.2205 - accuracy: 0.9276 - val_loss: 0.1156 - val_accuracy: 0.9678\n",
            "Epoch 93/200\n",
            "225/225 [==============================] - 114s 509ms/step - loss: 0.2155 - accuracy: 0.9281 - val_loss: 0.0951 - val_accuracy: 0.9729\n",
            "Epoch 94/200\n",
            "225/225 [==============================] - 115s 510ms/step - loss: 0.1956 - accuracy: 0.9366 - val_loss: 0.0835 - val_accuracy: 0.9757\n",
            "Epoch 95/200\n",
            "225/225 [==============================] - 114s 508ms/step - loss: 0.2160 - accuracy: 0.9279 - val_loss: 0.0889 - val_accuracy: 0.9729\n",
            "Epoch 96/200\n",
            "225/225 [==============================] - 115s 509ms/step - loss: 0.1981 - accuracy: 0.9339 - val_loss: 0.0805 - val_accuracy: 0.9755\n",
            "Epoch 97/200\n",
            "225/225 [==============================] - 114s 509ms/step - loss: 0.2299 - accuracy: 0.9243 - val_loss: 0.1396 - val_accuracy: 0.9553\n",
            "Epoch 98/200\n",
            "225/225 [==============================] - 115s 512ms/step - loss: 0.2025 - accuracy: 0.9327 - val_loss: 0.0696 - val_accuracy: 0.9802\n",
            "Epoch 99/200\n",
            "225/225 [==============================] - 115s 511ms/step - loss: 0.2040 - accuracy: 0.9323 - val_loss: 0.1044 - val_accuracy: 0.9699\n",
            "Epoch 100/200\n",
            "225/225 [==============================] - 115s 510ms/step - loss: 0.1933 - accuracy: 0.9379 - val_loss: 0.0849 - val_accuracy: 0.9778\n",
            "Epoch 101/200\n",
            "225/225 [==============================] - 115s 511ms/step - loss: 0.1885 - accuracy: 0.9384 - val_loss: 0.0803 - val_accuracy: 0.9778\n",
            "Epoch 102/200\n",
            "225/225 [==============================] - 115s 510ms/step - loss: 0.1802 - accuracy: 0.9418 - val_loss: 0.0587 - val_accuracy: 0.9856\n",
            "Epoch 103/200\n",
            "225/225 [==============================] - 115s 511ms/step - loss: 0.1822 - accuracy: 0.9421 - val_loss: 0.1595 - val_accuracy: 0.9513\n",
            "Epoch 104/200\n",
            "225/225 [==============================] - 115s 509ms/step - loss: 0.2062 - accuracy: 0.9335 - val_loss: 0.0729 - val_accuracy: 0.9809\n",
            "Epoch 105/200\n",
            "225/225 [==============================] - 115s 511ms/step - loss: 0.1790 - accuracy: 0.9411 - val_loss: 0.0827 - val_accuracy: 0.9750\n",
            "Epoch 106/200\n",
            "225/225 [==============================] - 117s 518ms/step - loss: 0.1912 - accuracy: 0.9381 - val_loss: 0.0834 - val_accuracy: 0.9739\n",
            "Epoch 107/200\n",
            "225/225 [==============================] - 115s 512ms/step - loss: 0.1928 - accuracy: 0.9390 - val_loss: 0.0810 - val_accuracy: 0.9739\n",
            "Epoch 108/200\n",
            "225/225 [==============================] - 115s 513ms/step - loss: 0.1866 - accuracy: 0.9415 - val_loss: 0.0874 - val_accuracy: 0.9748\n",
            "Epoch 109/200\n",
            "225/225 [==============================] - 115s 511ms/step - loss: 0.1813 - accuracy: 0.9424 - val_loss: 0.0581 - val_accuracy: 0.9833\n",
            "Epoch 110/200\n",
            "225/225 [==============================] - 115s 512ms/step - loss: 0.1571 - accuracy: 0.9490 - val_loss: 0.0838 - val_accuracy: 0.9748\n",
            "Epoch 111/200\n",
            "225/225 [==============================] - 115s 511ms/step - loss: 0.1659 - accuracy: 0.9470 - val_loss: 0.0720 - val_accuracy: 0.9753\n",
            "Epoch 112/200\n",
            "225/225 [==============================] - 115s 511ms/step - loss: 0.1741 - accuracy: 0.9446 - val_loss: 0.0888 - val_accuracy: 0.9745\n",
            "Epoch 113/200\n",
            "225/225 [==============================] - 116s 514ms/step - loss: 0.1738 - accuracy: 0.9440 - val_loss: 0.1061 - val_accuracy: 0.9639\n",
            "Epoch 114/200\n",
            "225/225 [==============================] - 115s 511ms/step - loss: 0.1783 - accuracy: 0.9434 - val_loss: 0.0563 - val_accuracy: 0.9831\n",
            "Epoch 115/200\n",
            "225/225 [==============================] - 115s 512ms/step - loss: 0.1678 - accuracy: 0.9456 - val_loss: 0.0728 - val_accuracy: 0.9795\n",
            "Epoch 116/200\n",
            "225/225 [==============================] - 115s 513ms/step - loss: 0.1669 - accuracy: 0.9476 - val_loss: 0.0765 - val_accuracy: 0.9753\n",
            "Epoch 117/200\n",
            "225/225 [==============================] - 115s 513ms/step - loss: 0.1733 - accuracy: 0.9442 - val_loss: 0.0761 - val_accuracy: 0.9750\n",
            "Epoch 118/200\n",
            "225/225 [==============================] - 116s 513ms/step - loss: 0.1656 - accuracy: 0.9484 - val_loss: 0.0796 - val_accuracy: 0.9743\n",
            "Epoch 119/200\n",
            "225/225 [==============================] - 115s 512ms/step - loss: 0.1620 - accuracy: 0.9487 - val_loss: 0.0554 - val_accuracy: 0.9821\n",
            "Epoch 120/200\n",
            "225/225 [==============================] - 115s 512ms/step - loss: 0.1659 - accuracy: 0.9471 - val_loss: 0.0720 - val_accuracy: 0.9783\n",
            "Epoch 121/200\n",
            "225/225 [==============================] - 115s 512ms/step - loss: 0.1759 - accuracy: 0.9433 - val_loss: 0.0592 - val_accuracy: 0.9809\n",
            "Epoch 122/200\n",
            "225/225 [==============================] - 115s 511ms/step - loss: 0.1584 - accuracy: 0.9509 - val_loss: 0.0618 - val_accuracy: 0.9826\n",
            "Epoch 123/200\n",
            "225/225 [==============================] - 115s 513ms/step - loss: 0.1484 - accuracy: 0.9536 - val_loss: 0.0574 - val_accuracy: 0.9819\n",
            "Epoch 124/200\n",
            "225/225 [==============================] - 115s 513ms/step - loss: 0.1554 - accuracy: 0.9512 - val_loss: 0.0562 - val_accuracy: 0.9847\n",
            "Epoch 125/200\n",
            "225/225 [==============================] - 115s 512ms/step - loss: 0.1837 - accuracy: 0.9422 - val_loss: 0.0642 - val_accuracy: 0.9826\n",
            "Epoch 126/200\n",
            "225/225 [==============================] - 116s 514ms/step - loss: 0.1597 - accuracy: 0.9483 - val_loss: 0.0552 - val_accuracy: 0.9826\n",
            "Epoch 127/200\n",
            "225/225 [==============================] - 115s 512ms/step - loss: 0.1516 - accuracy: 0.9506 - val_loss: 0.0743 - val_accuracy: 0.9764\n",
            "Epoch 128/200\n",
            "225/225 [==============================] - 115s 509ms/step - loss: 0.1605 - accuracy: 0.9508 - val_loss: 0.0545 - val_accuracy: 0.9851\n",
            "Epoch 129/200\n",
            "225/225 [==============================] - 115s 512ms/step - loss: 0.1684 - accuracy: 0.9471 - val_loss: 0.0565 - val_accuracy: 0.9811\n",
            "Epoch 130/200\n",
            "225/225 [==============================] - 116s 513ms/step - loss: 0.1494 - accuracy: 0.9532 - val_loss: 0.0763 - val_accuracy: 0.9802\n",
            "Epoch 131/200\n",
            "225/225 [==============================] - 115s 513ms/step - loss: 0.1559 - accuracy: 0.9507 - val_loss: 0.0690 - val_accuracy: 0.9809\n",
            "Epoch 132/200\n",
            "225/225 [==============================] - 115s 513ms/step - loss: 0.1673 - accuracy: 0.9490 - val_loss: 0.0400 - val_accuracy: 0.9885\n",
            "Epoch 133/200\n",
            "225/225 [==============================] - 116s 515ms/step - loss: 0.1825 - accuracy: 0.9432 - val_loss: 0.0772 - val_accuracy: 0.9751\n",
            "Epoch 134/200\n",
            "225/225 [==============================] - 115s 512ms/step - loss: 0.1693 - accuracy: 0.9471 - val_loss: 0.0550 - val_accuracy: 0.9844\n",
            "Epoch 135/200\n",
            "225/225 [==============================] - 116s 513ms/step - loss: 0.1483 - accuracy: 0.9541 - val_loss: 0.0534 - val_accuracy: 0.9871\n",
            "Epoch 136/200\n",
            "225/225 [==============================] - 116s 514ms/step - loss: 0.1336 - accuracy: 0.9579 - val_loss: 0.0492 - val_accuracy: 0.9871\n",
            "Epoch 137/200\n",
            "225/225 [==============================] - 116s 514ms/step - loss: 0.1457 - accuracy: 0.9554 - val_loss: 0.0858 - val_accuracy: 0.9746\n",
            "Epoch 138/200\n",
            "225/225 [==============================] - 116s 514ms/step - loss: 0.1614 - accuracy: 0.9496 - val_loss: 0.0664 - val_accuracy: 0.9816\n",
            "Epoch 139/200\n",
            "225/225 [==============================] - 115s 513ms/step - loss: 0.1594 - accuracy: 0.9502 - val_loss: 0.0482 - val_accuracy: 0.9845\n",
            "Epoch 140/200\n",
            "225/225 [==============================] - 116s 515ms/step - loss: 0.1596 - accuracy: 0.9512 - val_loss: 0.0690 - val_accuracy: 0.9791\n",
            "Epoch 141/200\n",
            "225/225 [==============================] - 117s 520ms/step - loss: 0.1368 - accuracy: 0.9574 - val_loss: 0.0503 - val_accuracy: 0.9857\n",
            "Epoch 142/200\n",
            "225/225 [==============================] - 116s 517ms/step - loss: 0.1261 - accuracy: 0.9599 - val_loss: 0.0471 - val_accuracy: 0.9871\n",
            "Epoch 143/200\n",
            "225/225 [==============================] - 115s 513ms/step - loss: 0.1413 - accuracy: 0.9553 - val_loss: 0.0562 - val_accuracy: 0.9840\n",
            "Epoch 144/200\n",
            "225/225 [==============================] - 115s 513ms/step - loss: 0.1321 - accuracy: 0.9587 - val_loss: 0.0453 - val_accuracy: 0.9854\n",
            "Epoch 145/200\n",
            "225/225 [==============================] - 116s 514ms/step - loss: 0.1267 - accuracy: 0.9616 - val_loss: 0.0435 - val_accuracy: 0.9873\n",
            "Epoch 146/200\n",
            "225/225 [==============================] - 116s 515ms/step - loss: 0.1531 - accuracy: 0.9531 - val_loss: 0.0478 - val_accuracy: 0.9857\n",
            "Epoch 147/200\n",
            "225/225 [==============================] - 116s 516ms/step - loss: 0.1294 - accuracy: 0.9597 - val_loss: 0.0737 - val_accuracy: 0.9753\n",
            "Epoch 148/200\n",
            "225/225 [==============================] - 116s 514ms/step - loss: 0.1409 - accuracy: 0.9573 - val_loss: 0.0629 - val_accuracy: 0.9811\n",
            "Epoch 149/200\n",
            "225/225 [==============================] - 118s 523ms/step - loss: 0.1454 - accuracy: 0.9560 - val_loss: 0.0521 - val_accuracy: 0.9845\n",
            "Epoch 150/200\n",
            "225/225 [==============================] - 116s 515ms/step - loss: 0.1475 - accuracy: 0.9538 - val_loss: 0.0636 - val_accuracy: 0.9814\n",
            "Epoch 151/200\n",
            "225/225 [==============================] - 116s 516ms/step - loss: 0.1408 - accuracy: 0.9554 - val_loss: 0.0452 - val_accuracy: 0.9868\n",
            "Epoch 152/200\n",
            "225/225 [==============================] - 116s 515ms/step - loss: 0.1372 - accuracy: 0.9573 - val_loss: 0.0414 - val_accuracy: 0.9875\n",
            "Epoch 153/200\n",
            "225/225 [==============================] - 116s 516ms/step - loss: 0.1414 - accuracy: 0.9561 - val_loss: 0.0422 - val_accuracy: 0.9880\n",
            "Epoch 154/200\n",
            "225/225 [==============================] - 116s 515ms/step - loss: 0.1401 - accuracy: 0.9580 - val_loss: 0.0511 - val_accuracy: 0.9830\n",
            "Epoch 155/200\n",
            "225/225 [==============================] - 116s 516ms/step - loss: 0.1304 - accuracy: 0.9595 - val_loss: 0.0444 - val_accuracy: 0.9868\n",
            "Epoch 156/200\n",
            "225/225 [==============================] - 116s 515ms/step - loss: 0.1352 - accuracy: 0.9579 - val_loss: 0.0311 - val_accuracy: 0.9904\n",
            "Epoch 157/200\n",
            "225/225 [==============================] - 118s 523ms/step - loss: 0.1308 - accuracy: 0.9605 - val_loss: 0.0684 - val_accuracy: 0.9776\n",
            "Epoch 158/200\n",
            "225/225 [==============================] - 116s 515ms/step - loss: 0.1570 - accuracy: 0.9517 - val_loss: 0.0395 - val_accuracy: 0.9897\n",
            "Epoch 159/200\n",
            "225/225 [==============================] - 115s 513ms/step - loss: 0.1508 - accuracy: 0.9540 - val_loss: 0.0555 - val_accuracy: 0.9842\n",
            "Epoch 160/200\n",
            "225/225 [==============================] - 115s 512ms/step - loss: 0.1469 - accuracy: 0.9569 - val_loss: 0.0502 - val_accuracy: 0.9857\n",
            "Epoch 161/200\n",
            "225/225 [==============================] - 115s 512ms/step - loss: 0.1377 - accuracy: 0.9578 - val_loss: 0.0366 - val_accuracy: 0.9911\n",
            "Epoch 162/200\n",
            "225/225 [==============================] - 115s 511ms/step - loss: 0.1285 - accuracy: 0.9603 - val_loss: 0.0391 - val_accuracy: 0.9894\n",
            "Epoch 163/200\n",
            "225/225 [==============================] - 116s 514ms/step - loss: 0.1247 - accuracy: 0.9619 - val_loss: 0.0377 - val_accuracy: 0.9892\n",
            "Epoch 164/200\n",
            "225/225 [==============================] - 115s 510ms/step - loss: 0.1133 - accuracy: 0.9656 - val_loss: 0.0359 - val_accuracy: 0.9903\n",
            "Epoch 165/200\n",
            "225/225 [==============================] - 116s 517ms/step - loss: 0.1303 - accuracy: 0.9599 - val_loss: 0.0487 - val_accuracy: 0.9861\n",
            "Epoch 166/200\n",
            "225/225 [==============================] - 115s 513ms/step - loss: 0.1267 - accuracy: 0.9606 - val_loss: 0.0508 - val_accuracy: 0.9851\n",
            "Epoch 167/200\n",
            "225/225 [==============================] - 116s 513ms/step - loss: 0.1525 - accuracy: 0.9546 - val_loss: 0.0737 - val_accuracy: 0.9798\n",
            "Epoch 168/200\n",
            "225/225 [==============================] - 116s 514ms/step - loss: 0.1555 - accuracy: 0.9520 - val_loss: 0.0674 - val_accuracy: 0.9784\n",
            "Epoch 169/200\n",
            "225/225 [==============================] - 116s 514ms/step - loss: 0.1388 - accuracy: 0.9570 - val_loss: 0.0505 - val_accuracy: 0.9861\n",
            "Epoch 170/200\n",
            "225/225 [==============================] - 116s 514ms/step - loss: 0.1397 - accuracy: 0.9579 - val_loss: 0.0424 - val_accuracy: 0.9884\n",
            "Epoch 171/200\n",
            "225/225 [==============================] - 116s 516ms/step - loss: 0.1266 - accuracy: 0.9597 - val_loss: 0.0411 - val_accuracy: 0.9870\n",
            "Epoch 172/200\n",
            "225/225 [==============================] - 116s 516ms/step - loss: 0.1393 - accuracy: 0.9586 - val_loss: 0.0700 - val_accuracy: 0.9778\n",
            "Epoch 173/200\n",
            "225/225 [==============================] - 117s 520ms/step - loss: 0.1563 - accuracy: 0.9533 - val_loss: 0.0432 - val_accuracy: 0.9877\n",
            "Epoch 174/200\n",
            "225/225 [==============================] - 116s 516ms/step - loss: 0.1363 - accuracy: 0.9601 - val_loss: 0.0377 - val_accuracy: 0.9896\n",
            "Epoch 175/200\n",
            "225/225 [==============================] - 116s 516ms/step - loss: 0.1314 - accuracy: 0.9608 - val_loss: 0.0655 - val_accuracy: 0.9837\n",
            "Epoch 176/200\n",
            "225/225 [==============================] - 116s 516ms/step - loss: 0.1134 - accuracy: 0.9657 - val_loss: 0.0523 - val_accuracy: 0.9857\n",
            "Epoch 177/200\n",
            "225/225 [==============================] - 116s 516ms/step - loss: 0.1266 - accuracy: 0.9627 - val_loss: 0.0350 - val_accuracy: 0.9880\n",
            "Epoch 178/200\n",
            "225/225 [==============================] - 116s 516ms/step - loss: 0.1341 - accuracy: 0.9602 - val_loss: 0.0535 - val_accuracy: 0.9851\n",
            "Epoch 179/200\n",
            "225/225 [==============================] - 116s 515ms/step - loss: 0.1225 - accuracy: 0.9621 - val_loss: 0.0403 - val_accuracy: 0.9878\n",
            "Epoch 180/200\n",
            "225/225 [==============================] - 116s 517ms/step - loss: 0.1310 - accuracy: 0.9606 - val_loss: 0.0508 - val_accuracy: 0.9857\n",
            "Epoch 181/200\n",
            "225/225 [==============================] - 117s 520ms/step - loss: 0.1410 - accuracy: 0.9562 - val_loss: 0.0616 - val_accuracy: 0.9791\n",
            "Epoch 182/200\n",
            "225/225 [==============================] - 116s 516ms/step - loss: 0.1363 - accuracy: 0.9596 - val_loss: 0.0460 - val_accuracy: 0.9856\n",
            "Epoch 183/200\n",
            "225/225 [==============================] - 116s 516ms/step - loss: 0.1178 - accuracy: 0.9648 - val_loss: 0.0341 - val_accuracy: 0.9906\n",
            "Epoch 184/200\n",
            "225/225 [==============================] - 116s 517ms/step - loss: 0.1147 - accuracy: 0.9654 - val_loss: 0.0414 - val_accuracy: 0.9878\n",
            "Epoch 185/200\n",
            "225/225 [==============================] - 116s 517ms/step - loss: 0.1313 - accuracy: 0.9619 - val_loss: 0.0507 - val_accuracy: 0.9857\n",
            "Epoch 186/200\n",
            "225/225 [==============================] - 116s 516ms/step - loss: 0.1214 - accuracy: 0.9644 - val_loss: 0.0317 - val_accuracy: 0.9906\n",
            "Epoch 187/200\n",
            "225/225 [==============================] - 116s 516ms/step - loss: 0.1327 - accuracy: 0.9604 - val_loss: 0.0348 - val_accuracy: 0.9887\n",
            "Epoch 188/200\n",
            "225/225 [==============================] - 116s 515ms/step - loss: 0.1169 - accuracy: 0.9643 - val_loss: 0.0420 - val_accuracy: 0.9877\n",
            "Epoch 189/200\n",
            "225/225 [==============================] - 117s 520ms/step - loss: 0.1231 - accuracy: 0.9646 - val_loss: 0.0312 - val_accuracy: 0.9901\n",
            "Epoch 190/200\n",
            "225/225 [==============================] - 116s 514ms/step - loss: 0.1113 - accuracy: 0.9670 - val_loss: 0.0442 - val_accuracy: 0.9889\n",
            "Epoch 191/200\n",
            "225/225 [==============================] - 116s 515ms/step - loss: 0.1363 - accuracy: 0.9588 - val_loss: 0.0420 - val_accuracy: 0.9891\n",
            "Epoch 192/200\n",
            "225/225 [==============================] - 116s 516ms/step - loss: 0.1099 - accuracy: 0.9664 - val_loss: 0.0526 - val_accuracy: 0.9828\n",
            "Epoch 193/200\n",
            "225/225 [==============================] - 116s 516ms/step - loss: 0.1251 - accuracy: 0.9629 - val_loss: 0.0469 - val_accuracy: 0.9854\n",
            "Epoch 194/200\n",
            "225/225 [==============================] - 116s 517ms/step - loss: 0.1391 - accuracy: 0.9605 - val_loss: 0.0578 - val_accuracy: 0.9816\n",
            "Epoch 195/200\n",
            "225/225 [==============================] - 116s 516ms/step - loss: 0.1121 - accuracy: 0.9668 - val_loss: 0.0507 - val_accuracy: 0.9842\n",
            "Epoch 196/200\n",
            "225/225 [==============================] - 116s 516ms/step - loss: 0.1518 - accuracy: 0.9557 - val_loss: 0.0639 - val_accuracy: 0.9798\n",
            "Epoch 197/200\n",
            "225/225 [==============================] - 117s 520ms/step - loss: 0.1411 - accuracy: 0.9591 - val_loss: 0.0390 - val_accuracy: 0.9863\n",
            "Epoch 198/200\n",
            "225/225 [==============================] - 116s 517ms/step - loss: 0.1494 - accuracy: 0.9564 - val_loss: 0.0655 - val_accuracy: 0.9800\n",
            "Epoch 199/200\n",
            "225/225 [==============================] - 116s 515ms/step - loss: 0.1350 - accuracy: 0.9591 - val_loss: 0.0431 - val_accuracy: 0.9878\n",
            "Epoch 200/200\n",
            "225/225 [==============================] - 116s 515ms/step - loss: 0.1209 - accuracy: 0.9649 - val_loss: 0.0417 - val_accuracy: 0.9887\n"
          ],
          "name": "stdout"
        },
        {
          "output_type": "execute_result",
          "data": {
            "text/plain": [
              "<tensorflow.python.keras.callbacks.History at 0x7f512a1fd780>"
            ]
          },
          "metadata": {
            "tags": []
          },
          "execution_count": 9
        }
      ]
    },
    {
      "cell_type": "code",
      "metadata": {
        "id": "7N8Te4akks_f"
      },
      "source": [
        "model.save(\"/content/drive/My Drive/model125epoch/mymodel200.h5\")"
      ],
      "execution_count": null,
      "outputs": []
    },
    {
      "cell_type": "code",
      "metadata": {
        "id": "p_vSw0c1k6qb",
        "colab": {
          "base_uri": "https://localhost:8080/",
          "height": 34
        },
        "outputId": "629a2f84-6d0e-4a6a-fe1a-8c2ada324654"
      },
      "source": [
        "img_size=224\n",
        "test_generator = ImageDataGenerator( ).flow_from_directory('/content/drive/My Drive/mentorship2020/dataset/train',\n",
        "                                                   target_size=(img_size,img_size), \n",
        "                                                   color_mode=\"rgb\",\n",
        "                                                    shuffle=False,\n",
        "                                                    #\n",
        "                                                    classes=['disgust'],\n",
        "                                                   class_mode=None, \n",
        "                                                   )"
      ],
      "execution_count": null,
      "outputs": [
        {
          "output_type": "stream",
          "text": [
            "Found 435 images belonging to 1 classes.\n"
          ],
          "name": "stdout"
        }
      ]
    },
    {
      "cell_type": "code",
      "metadata": {
        "id": "YccB_SyAlBNm",
        "colab": {
          "base_uri": "https://localhost:8080/",
          "height": 34
        },
        "outputId": "1174e292-dc9a-4682-f34e-c9d701c83988"
      },
      "source": [
        "predictions = model.predict(\n",
        "    test_generator,\n",
        "    batch_size=32  ,\n",
        "    verbose=1,\n",
        "    steps=221,\n",
        "    callbacks=None,\n",
        "    max_queue_size=10,\n",
        "    workers=1,\n",
        "    use_multiprocessing=False,\n",
        ")"
      ],
      "execution_count": null,
      "outputs": [
        {
          "output_type": "stream",
          "text": [
            "171/221 [======================>.......] - ETA: 11:38"
          ],
          "name": "stdout"
        }
      ]
    },
    {
      "cell_type": "code",
      "metadata": {
        "id": "LFP8Ll28oYsB",
        "colab": {
          "base_uri": "https://localhost:8080/",
          "height": 238
        },
        "outputId": "50b34478-cd61-48e9-f311-fb61ee41a9b0"
      },
      "source": [
        "print(predictions)"
      ],
      "execution_count": null,
      "outputs": [
        {
          "output_type": "stream",
          "text": [
            "[[1.3614195e-17 2.2108889e-25 1.1611250e-11 ... 3.5201964e-14\n",
            "  4.5986753e-15 1.0000000e+00]\n",
            " [1.1060366e-25 0.0000000e+00 1.5449435e-20 ... 8.0180261e-29\n",
            "  5.7705869e-29 1.0000000e+00]\n",
            " [4.3562756e-10 4.4478462e-12 2.8414644e-05 ... 6.3723973e-09\n",
            "  7.3033946e-10 9.9997151e-01]\n",
            " ...\n",
            " [1.7987071e-02 1.8578184e-01 3.0845615e-01 ... 6.6234702e-03\n",
            "  5.6260757e-02 3.6405258e-02]\n",
            " [9.5147997e-01 4.4338913e-03 4.0489141e-02 ... 2.4201655e-04\n",
            "  2.5987995e-03 6.3937873e-04]\n",
            " [9.8620185e-05 9.9981982e-01 3.0328337e-07 ... 5.4529931e-10\n",
            "  1.6035176e-07 8.7065580e-08]]\n"
          ],
          "name": "stdout"
        }
      ]
    },
    {
      "cell_type": "code",
      "metadata": {
        "id": "nx8XlijWoe6F",
        "colab": {
          "base_uri": "https://localhost:8080/",
          "height": 215
        },
        "outputId": "6c55fedd-47b4-4a3b-a65a-53e6a294de56"
      },
      "source": [
        "import pandas as pd\n",
        "import numpy as np\n",
        "\n",
        "prediction = pd.DataFrame(np.array(test_generator)[indices.astype(int)] , columns=['predictions']).to_csv('prediction2.csv')"
      ],
      "execution_count": null,
      "outputs": [
        {
          "output_type": "error",
          "ename": "NameError",
          "evalue": "ignored",
          "traceback": [
            "\u001b[0;31m---------------------------------------------------------------------------\u001b[0m",
            "\u001b[0;31mNameError\u001b[0m                                 Traceback (most recent call last)",
            "\u001b[0;32m<ipython-input-1-f4a8e911831d>\u001b[0m in \u001b[0;36m<module>\u001b[0;34m()\u001b[0m\n\u001b[1;32m      2\u001b[0m \u001b[0;32mimport\u001b[0m \u001b[0mnumpy\u001b[0m \u001b[0;32mas\u001b[0m \u001b[0mnp\u001b[0m\u001b[0;34m\u001b[0m\u001b[0;34m\u001b[0m\u001b[0m\n\u001b[1;32m      3\u001b[0m \u001b[0;34m\u001b[0m\u001b[0m\n\u001b[0;32m----> 4\u001b[0;31m \u001b[0mprediction\u001b[0m \u001b[0;34m=\u001b[0m \u001b[0mpd\u001b[0m\u001b[0;34m.\u001b[0m\u001b[0mDataFrame\u001b[0m\u001b[0;34m(\u001b[0m\u001b[0mnp\u001b[0m\u001b[0;34m.\u001b[0m\u001b[0marray\u001b[0m\u001b[0;34m(\u001b[0m\u001b[0mtest_generator\u001b[0m\u001b[0;34m)\u001b[0m\u001b[0;34m[\u001b[0m\u001b[0mindices\u001b[0m\u001b[0;34m.\u001b[0m\u001b[0mastype\u001b[0m\u001b[0;34m(\u001b[0m\u001b[0mint\u001b[0m\u001b[0;34m)\u001b[0m\u001b[0;34m]\u001b[0m \u001b[0;34m,\u001b[0m \u001b[0mcolumns\u001b[0m\u001b[0;34m=\u001b[0m\u001b[0;34m[\u001b[0m\u001b[0;34m'predictions'\u001b[0m\u001b[0;34m]\u001b[0m\u001b[0;34m)\u001b[0m\u001b[0;34m.\u001b[0m\u001b[0mto_csv\u001b[0m\u001b[0;34m(\u001b[0m\u001b[0;34m'prediction2.csv'\u001b[0m\u001b[0;34m)\u001b[0m\u001b[0;34m\u001b[0m\u001b[0;34m\u001b[0m\u001b[0m\n\u001b[0m",
            "\u001b[0;31mNameError\u001b[0m: name 'test_generator' is not defined"
          ]
        }
      ]
    }
  ]
}